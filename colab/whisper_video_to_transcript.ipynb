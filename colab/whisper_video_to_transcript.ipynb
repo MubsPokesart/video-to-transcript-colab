{
  "nbformat": 4,
  "nbformat_minor": 0,
  "metadata": {
    "colab": {
      "provenance": [],
      "gpuType": "T4"
    },
    "kernelspec": {
      "name": "python3",
      "display_name": "Python 3"
    },
    "language_info": {
      "name": "python"
    },
    "accelerator": "GPU"
  },
  "cells": [
    {
      "cell_type": "code",
      "execution_count": 2,
      "metadata": {
        "id": "AcsQx3tH7FrY",
        "colab": {
          "base_uri": "https://localhost:8080/"
        },
        "outputId": "500c1b16-56ce-4454-f6af-2ff446a95230"
      },
      "outputs": [
        {
          "output_type": "stream",
          "name": "stdout",
          "text": [
            "  Installing build dependencies ... \u001b[?25l\u001b[?25hdone\n",
            "  Getting requirements to build wheel ... \u001b[?25l\u001b[?25hdone\n",
            "  Preparing metadata (pyproject.toml) ... \u001b[?25l\u001b[?25hdone\n",
            "  Building wheel for openai-whisper (pyproject.toml) ... \u001b[?25l\u001b[?25hdone\n",
            "Mon Oct 27 20:07:50 2025       \n",
            "+-----------------------------------------------------------------------------------------+\n",
            "| NVIDIA-SMI 550.54.15              Driver Version: 550.54.15      CUDA Version: 12.4     |\n",
            "|-----------------------------------------+------------------------+----------------------+\n",
            "| GPU  Name                 Persistence-M | Bus-Id          Disp.A | Volatile Uncorr. ECC |\n",
            "| Fan  Temp   Perf          Pwr:Usage/Cap |           Memory-Usage | GPU-Util  Compute M. |\n",
            "|                                         |                        |               MIG M. |\n",
            "|=========================================+========================+======================|\n",
            "|   0  Tesla T4                       Off |   00000000:00:04.0 Off |                    0 |\n",
            "| N/A   35C    P8              9W /   70W |       0MiB /  15360MiB |      0%      Default |\n",
            "|                                         |                        |                  N/A |\n",
            "+-----------------------------------------+------------------------+----------------------+\n",
            "                                                                                         \n",
            "+-----------------------------------------------------------------------------------------+\n",
            "| Processes:                                                                              |\n",
            "|  GPU   GI   CI        PID   Type   Process name                              GPU Memory |\n",
            "|        ID   ID                                                               Usage      |\n",
            "|=========================================================================================|\n",
            "|  No running processes found                                                             |\n",
            "+-----------------------------------------------------------------------------------------+\n"
          ]
        }
      ],
      "source": [
        "# Install the Whisper library\n",
        "!pip install git+https://github.com/openai/whisper.git -q\n",
        "\n",
        "# Check if a GPU is available (Whisper is much faster on a GPU)\n",
        "!nvidia-smi"
      ]
    },
    {
      "cell_type": "code",
      "source": [
        "from google.colab import drive\n",
        "drive.mount('/content/drive')"
      ],
      "metadata": {
        "id": "vZAhnP3M7cIi",
        "colab": {
          "base_uri": "https://localhost:8080/"
        },
        "outputId": "74abbfe4-c7cf-4c50-c934-c990e77e12a6"
      },
      "execution_count": 3,
      "outputs": [
        {
          "output_type": "stream",
          "name": "stdout",
          "text": [
            "Mounted at /content/drive\n"
          ]
        }
      ]
    },
    {
      "cell_type": "code",
      "source": [
        "import whisper\n",
        "import os\n",
        "import time\n",
        "\n",
        "# --- Configuration ---\n",
        "\n",
        "# TODO: MUST-UPDATE!\n",
        "# Update this path to point to your video folder in Google Drive\n",
        "SOURCE_DIR = \"/content/drive/MyDrive/ENTER_YOUR_FILE_HERE\"\n",
        "\n",
        "# Where to save the transcripts\n",
        "TRANSCRIPT_DIR = \"/content/drive/MyDrive/whisper_transcripts\"\n",
        "\n",
        "# Which Whisper model to use.\n",
        "# Options: \"tiny\", \"base\", \"small\", \"medium\", \"large\"\n",
        "# \".en\" models (e.g., \"base.en\") are faster if you know all audio is English.\n",
        "MODEL_NAME = \"small.en\"\n",
        "\n",
        "# File extensions to look for\n",
        "SUPPORTED_EXTENSIONS = ('.mp4', '.mov', '.m4a', '.mp3', '.wav', '.flac')\n",
        "\n",
        "# --- End of Configuration ---\n",
        "\n",
        "\n",
        "# 1. Create the output directory if it doesn't exist\n",
        "os.makedirs(TRANSCRIPT_DIR, exist_ok=True)\n",
        "print(f\"Transcripts will be saved to: {TRANSCRIPT_DIR}\")\n",
        "\n",
        "# 2. Load the Whisper model\n",
        "# This will download the model weights the first time it's run\n",
        "try:\n",
        "    print(f\"Loading Whisper model '{MODEL_NAME}'... (This may take a moment)\")\n",
        "    model = whisper.load_model(MODEL_NAME)\n",
        "    print(\"Model loaded successfully.\")\n",
        "except Exception as e:\n",
        "    print(f\"Error loading model: {e}\")\n",
        "    print(\"Please ensure you have a GPU runtime (Runtime > Change runtime type > GPU)\")\n",
        "    # Raise the exception to stop the script if the model fails to load\n",
        "    raise\n",
        "\n",
        "# 3. Walk through the source directory and find files\n",
        "print(f\"\\nStarting transcription process for: {SOURCE_DIR}\")\n",
        "start_batch_time = time.time()\n",
        "files_processed = 0\n",
        "files_skipped = 0\n",
        "\n",
        "for root, dirs, files in os.walk(SOURCE_DIR):\n",
        "    for file in files:\n",
        "        if file.lower().endswith(SUPPORTED_EXTENSIONS):\n",
        "            video_path = os.path.join(root, file)\n",
        "\n",
        "            # Define the output file path\n",
        "            base_filename = os.path.splitext(file)[0]\n",
        "            transcript_filename = f\"{base_filename}.txt\"\n",
        "            transcript_path = os.path.join(TRANSCRIPT_DIR, transcript_filename)\n",
        "\n",
        "            # Check if transcript already exists to avoid re-processing\n",
        "            if os.path.exists(transcript_path):\n",
        "                print(f\"--- Skipping '{file}', transcript already exists. ---\")\n",
        "                files_skipped += 1\n",
        "                continue\n",
        "\n",
        "            # --- Run Transcription ---\n",
        "            print(f\"--- Transcribing '{file}'... ---\")\n",
        "            start_file_time = time.time()\n",
        "            try:\n",
        "                # Run the transcription\n",
        "                # fp16=True is much faster on a GPU, but Whisper handles this automatically.\n",
        "                result = model.transcribe(video_path, verbose=True)\n",
        "\n",
        "                transcript_text = result[\"text\"]\n",
        "\n",
        "                # Save the transcript\n",
        "                with open(transcript_path, \"w\", encoding=\"utf-8\") as f:\n",
        "                    f.write(transcript_text)\n",
        "\n",
        "                end_file_time = time.time()\n",
        "                print(f\"--- Finished '{file}'. Saved to '{transcript_path}' ---\")\n",
        "                print(f\"Time taken: {end_file_time - start_file_time:.2f} seconds\\n\")\n",
        "                files_processed += 1\n",
        "\n",
        "            except Exception as e:\n",
        "                print(f\"ERROR processing '{file}': {e}\\n\")\n",
        "\n",
        "end_batch_time = time.time()\n",
        "print(\"--- Batch Transcription Complete ---\")\n",
        "print(f\"Total files processed: {files_processed}\")\n",
        "print(f\"Total files skipped: {files_skipped}\")\n",
        "print(f\"Total time taken: {(end_batch_time - start_batch_time) / 60:.2f} minutes\")\n"
      ],
      "metadata": {
        "id": "oXFx1YGc7TRH",
        "colab": {
          "base_uri": "https://localhost:8080/"
        },
        "outputId": "03e4cd63-7f4a-48cf-96dd-5c9ed28a26a3"
      },
      "execution_count": 4,
      "outputs": [
        {
          "output_type": "stream",
          "name": "stdout",
          "text": [
            "Transcripts will be saved to: /content/drive/MyDrive/whisper_transcripts\n",
            "Loading Whisper model 'small.en'... (This may take a moment)\n"
          ]
        },
        {
          "output_type": "stream",
          "name": "stderr",
          "text": [
            "100%|████████████████████████████████████████| 461M/461M [00:02<00:00, 188MiB/s]\n"
          ]
        },
        {
          "output_type": "stream",
          "name": "stdout",
          "text": [
            "Model loaded successfully.\n",
            "\n",
            "Starting transcription process for: /content/drive/MyDrive/ENTER_YOUR_FILE_HERE\n",
            "--- Batch Transcription Complete ---\n",
            "Total files processed: 0\n",
            "Total files skipped: 0\n",
            "Total time taken: 0.00 minutes\n"
          ]
        }
      ]
    }
  ]
}